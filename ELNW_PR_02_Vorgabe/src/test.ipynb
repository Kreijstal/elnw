{
 "metadata": {
  "language_info": {
   "codemirror_mode": {
    "name": "ipython",
    "version": 3
   },
   "file_extension": ".py",
   "mimetype": "text/x-python",
   "name": "python",
   "nbconvert_exporter": "python",
   "pygments_lexer": "ipython3",
   "version": "3.8.5-final"
  },
  "orig_nbformat": 2,
  "kernelspec": {
   "name": "python38564bitcee81a5c49d74fdc96495001821beacf",
   "display_name": "Python 3.8.5 64-bit"
  }
 },
 "nbformat": 4,
 "nbformat_minor": 2,
 "cells": [
  {
   "cell_type": "code",
   "execution_count": 4,
   "metadata": {},
   "outputs": [],
   "source": [
    "import pandas as pd\n",
    "import scipy.io\n",
    "import numpy as np\n",
    "a=pd.read_csv('3_Messwerte.csv', sep=';', decimal=\",\")"
   ]
  },
  {
   "cell_type": "code",
   "execution_count": 5,
   "metadata": {},
   "outputs": [],
   "source": [
    "mat=scipy.io.loadmat('ELNW_PR_02_Vorgabe_Messwerte.mat')\n",
    "mat = {k:v for k, v in mat.items() if k[0] != '_'}\n",
    "data = pd.DataFrame({k: np.array(v).flatten() for k, v in mat.items()})"
   ]
  },
  {
   "cell_type": "code",
   "execution_count": 11,
   "metadata": {},
   "outputs": [],
   "source": [
    "data['u_R']=data['u_E']-data['u_C']\n",
    "data['i']=data['u_R']\n",
    "data['t_tat']=a['ttat']\n",
    "data['t_mess']=a['tmess']"
   ]
  },
  {
   "cell_type": "code",
   "execution_count": 14,
   "metadata": {
    "tags": []
   },
   "outputs": [
    {
     "output_type": "stream",
     "name": "stdout",
     "text": "\\begin{tabular}{rrrrrr}\n\\toprule\n0.00 & 0.00 &  9.36 & 0.16 &  9.20 &  9.20 \\\\\n0.04 & 0.04 &  9.68 & 2.88 &  6.80 &  6.80 \\\\\n0.08 & 0.08 &  9.84 & 4.72 &  5.12 &  5.12 \\\\\n0.12 & 0.12 &  9.92 & 6.16 &  3.76 &  3.76 \\\\\n0.16 & 0.16 & 10.00 & 7.28 &  2.72 &  2.72 \\\\\n0.20 & 0.20 & 10.00 & 8.08 &  1.92 &  1.92 \\\\\n0.24 & 0.24 & 10.00 & 8.64 &  1.36 &  1.36 \\\\\n0.28 & 0.28 & 10.00 & 9.12 &  0.88 &  0.88 \\\\\n0.32 & 0.32 & 10.00 & 9.36 &  0.64 &  0.64 \\\\\n0.36 & 0.36 & 10.00 & 9.60 &  0.40 &  0.40 \\\\\n0.40 & 0.40 & 10.00 & 9.68 &  0.32 &  0.32 \\\\\n0.44 & 0.44 & 10.00 & 9.84 &  0.16 &  0.16 \\\\\n0.48 & 0.48 & 10.00 & 9.92 &  0.08 &  0.08 \\\\\n0.00 & 0.50 & 10.00 & 9.92 &  0.08 &  0.08 \\\\\n0.04 & 0.54 &  0.32 & 6.88 & -6.56 & -6.56 \\\\\n0.08 & 0.58 &  0.16 & 4.96 & -4.80 & -4.80 \\\\\n0.12 & 0.62 &  0.08 & 3.60 & -3.52 & -3.52 \\\\\n0.16 & 0.66 &  0.08 & 2.64 & -2.56 & -2.56 \\\\\n0.20 & 0.70 &  0.08 & 1.92 & -1.84 & -1.84 \\\\\n0.24 & 0.74 &  0.00 & 1.44 & -1.44 & -1.44 \\\\\n0.28 & 0.78 &  0.00 & 1.04 & -1.04 & -1.04 \\\\\n0.32 & 0.82 &  0.00 & 0.80 & -0.80 & -0.80 \\\\\n0.36 & 0.86 &  0.00 & 0.48 & -0.48 & -0.48 \\\\\n0.40 & 0.90 &  0.00 & 0.40 & -0.40 & -0.40 \\\\\n0.44 & 0.94 &  0.00 & 0.24 & -0.24 & -0.24 \\\\\n0.48 & 0.98 & -0.08 & 0.16 & -0.24 & -0.24 \\\\\n\\bottomrule\n\\end{tabular}\n\n"
    }
   ],
   "source": [
    "print(data.reindex(columns=['t_mess','t_tat','u_E','u_C','u_R','i']).to_latex(index=False,header=False))"
   ]
  },
  {
   "cell_type": "code",
   "execution_count": 12,
   "metadata": {},
   "outputs": [
    {
     "output_type": "execute_result",
     "data": {
      "text/plain": "    t_mess   u_C    u_E   u_R     i  t_tat\n0     0.00  0.16   9.36  9.20  9.20   0.00\n1     0.04  2.88   9.68  6.80  6.80   0.04\n2     0.08  4.72   9.84  5.12  5.12   0.08\n3     0.12  6.16   9.92  3.76  3.76   0.12\n4     0.16  7.28  10.00  2.72  2.72   0.16\n5     0.20  8.08  10.00  1.92  1.92   0.20\n6     0.24  8.64  10.00  1.36  1.36   0.24\n7     0.28  9.12  10.00  0.88  0.88   0.28\n8     0.32  9.36  10.00  0.64  0.64   0.32\n9     0.36  9.60  10.00  0.40  0.40   0.36\n10    0.40  9.68  10.00  0.32  0.32   0.40\n11    0.44  9.84  10.00  0.16  0.16   0.44\n12    0.48  9.92  10.00  0.08  0.08   0.48\n13    0.00  9.92  10.00  0.08  0.08   0.50\n14    0.04  6.88   0.32 -6.56 -6.56   0.54\n15    0.08  4.96   0.16 -4.80 -4.80   0.58\n16    0.12  3.60   0.08 -3.52 -3.52   0.62\n17    0.16  2.64   0.08 -2.56 -2.56   0.66\n18    0.20  1.92   0.08 -1.84 -1.84   0.70\n19    0.24  1.44   0.00 -1.44 -1.44   0.74\n20    0.28  1.04   0.00 -1.04 -1.04   0.78\n21    0.32  0.80   0.00 -0.80 -0.80   0.82\n22    0.36  0.48   0.00 -0.48 -0.48   0.86\n23    0.40  0.40   0.00 -0.40 -0.40   0.90\n24    0.44  0.24   0.00 -0.24 -0.24   0.94\n25    0.48  0.16  -0.08 -0.24 -0.24   0.98",
      "text/html": "<div>\n<style scoped>\n    .dataframe tbody tr th:only-of-type {\n        vertical-align: middle;\n    }\n\n    .dataframe tbody tr th {\n        vertical-align: top;\n    }\n\n    .dataframe thead th {\n        text-align: right;\n    }\n</style>\n<table border=\"1\" class=\"dataframe\">\n  <thead>\n    <tr style=\"text-align: right;\">\n      <th></th>\n      <th>t_mess</th>\n      <th>u_C</th>\n      <th>u_E</th>\n      <th>u_R</th>\n      <th>i</th>\n      <th>t_tat</th>\n    </tr>\n  </thead>\n  <tbody>\n    <tr>\n      <th>0</th>\n      <td>0.00</td>\n      <td>0.16</td>\n      <td>9.36</td>\n      <td>9.20</td>\n      <td>9.20</td>\n      <td>0.00</td>\n    </tr>\n    <tr>\n      <th>1</th>\n      <td>0.04</td>\n      <td>2.88</td>\n      <td>9.68</td>\n      <td>6.80</td>\n      <td>6.80</td>\n      <td>0.04</td>\n    </tr>\n    <tr>\n      <th>2</th>\n      <td>0.08</td>\n      <td>4.72</td>\n      <td>9.84</td>\n      <td>5.12</td>\n      <td>5.12</td>\n      <td>0.08</td>\n    </tr>\n    <tr>\n      <th>3</th>\n      <td>0.12</td>\n      <td>6.16</td>\n      <td>9.92</td>\n      <td>3.76</td>\n      <td>3.76</td>\n      <td>0.12</td>\n    </tr>\n    <tr>\n      <th>4</th>\n      <td>0.16</td>\n      <td>7.28</td>\n      <td>10.00</td>\n      <td>2.72</td>\n      <td>2.72</td>\n      <td>0.16</td>\n    </tr>\n    <tr>\n      <th>5</th>\n      <td>0.20</td>\n      <td>8.08</td>\n      <td>10.00</td>\n      <td>1.92</td>\n      <td>1.92</td>\n      <td>0.20</td>\n    </tr>\n    <tr>\n      <th>6</th>\n      <td>0.24</td>\n      <td>8.64</td>\n      <td>10.00</td>\n      <td>1.36</td>\n      <td>1.36</td>\n      <td>0.24</td>\n    </tr>\n    <tr>\n      <th>7</th>\n      <td>0.28</td>\n      <td>9.12</td>\n      <td>10.00</td>\n      <td>0.88</td>\n      <td>0.88</td>\n      <td>0.28</td>\n    </tr>\n    <tr>\n      <th>8</th>\n      <td>0.32</td>\n      <td>9.36</td>\n      <td>10.00</td>\n      <td>0.64</td>\n      <td>0.64</td>\n      <td>0.32</td>\n    </tr>\n    <tr>\n      <th>9</th>\n      <td>0.36</td>\n      <td>9.60</td>\n      <td>10.00</td>\n      <td>0.40</td>\n      <td>0.40</td>\n      <td>0.36</td>\n    </tr>\n    <tr>\n      <th>10</th>\n      <td>0.40</td>\n      <td>9.68</td>\n      <td>10.00</td>\n      <td>0.32</td>\n      <td>0.32</td>\n      <td>0.40</td>\n    </tr>\n    <tr>\n      <th>11</th>\n      <td>0.44</td>\n      <td>9.84</td>\n      <td>10.00</td>\n      <td>0.16</td>\n      <td>0.16</td>\n      <td>0.44</td>\n    </tr>\n    <tr>\n      <th>12</th>\n      <td>0.48</td>\n      <td>9.92</td>\n      <td>10.00</td>\n      <td>0.08</td>\n      <td>0.08</td>\n      <td>0.48</td>\n    </tr>\n    <tr>\n      <th>13</th>\n      <td>0.00</td>\n      <td>9.92</td>\n      <td>10.00</td>\n      <td>0.08</td>\n      <td>0.08</td>\n      <td>0.50</td>\n    </tr>\n    <tr>\n      <th>14</th>\n      <td>0.04</td>\n      <td>6.88</td>\n      <td>0.32</td>\n      <td>-6.56</td>\n      <td>-6.56</td>\n      <td>0.54</td>\n    </tr>\n    <tr>\n      <th>15</th>\n      <td>0.08</td>\n      <td>4.96</td>\n      <td>0.16</td>\n      <td>-4.80</td>\n      <td>-4.80</td>\n      <td>0.58</td>\n    </tr>\n    <tr>\n      <th>16</th>\n      <td>0.12</td>\n      <td>3.60</td>\n      <td>0.08</td>\n      <td>-3.52</td>\n      <td>-3.52</td>\n      <td>0.62</td>\n    </tr>\n    <tr>\n      <th>17</th>\n      <td>0.16</td>\n      <td>2.64</td>\n      <td>0.08</td>\n      <td>-2.56</td>\n      <td>-2.56</td>\n      <td>0.66</td>\n    </tr>\n    <tr>\n      <th>18</th>\n      <td>0.20</td>\n      <td>1.92</td>\n      <td>0.08</td>\n      <td>-1.84</td>\n      <td>-1.84</td>\n      <td>0.70</td>\n    </tr>\n    <tr>\n      <th>19</th>\n      <td>0.24</td>\n      <td>1.44</td>\n      <td>0.00</td>\n      <td>-1.44</td>\n      <td>-1.44</td>\n      <td>0.74</td>\n    </tr>\n    <tr>\n      <th>20</th>\n      <td>0.28</td>\n      <td>1.04</td>\n      <td>0.00</td>\n      <td>-1.04</td>\n      <td>-1.04</td>\n      <td>0.78</td>\n    </tr>\n    <tr>\n      <th>21</th>\n      <td>0.32</td>\n      <td>0.80</td>\n      <td>0.00</td>\n      <td>-0.80</td>\n      <td>-0.80</td>\n      <td>0.82</td>\n    </tr>\n    <tr>\n      <th>22</th>\n      <td>0.36</td>\n      <td>0.48</td>\n      <td>0.00</td>\n      <td>-0.48</td>\n      <td>-0.48</td>\n      <td>0.86</td>\n    </tr>\n    <tr>\n      <th>23</th>\n      <td>0.40</td>\n      <td>0.40</td>\n      <td>0.00</td>\n      <td>-0.40</td>\n      <td>-0.40</td>\n      <td>0.90</td>\n    </tr>\n    <tr>\n      <th>24</th>\n      <td>0.44</td>\n      <td>0.24</td>\n      <td>0.00</td>\n      <td>-0.24</td>\n      <td>-0.24</td>\n      <td>0.94</td>\n    </tr>\n    <tr>\n      <th>25</th>\n      <td>0.48</td>\n      <td>0.16</td>\n      <td>-0.08</td>\n      <td>-0.24</td>\n      <td>-0.24</td>\n      <td>0.98</td>\n    </tr>\n  </tbody>\n</table>\n</div>"
     },
     "metadata": {},
     "execution_count": 12
    }
   ],
   "source": [
    "data"
   ]
  },
  {
   "cell_type": "code",
   "execution_count": null,
   "metadata": {},
   "outputs": [],
   "source": []
  }
 ]
}