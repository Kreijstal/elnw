{
 "metadata": {
  "language_info": {
   "codemirror_mode": {
    "name": "ipython",
    "version": 3
   },
   "file_extension": ".py",
   "mimetype": "text/x-python",
   "name": "python",
   "nbconvert_exporter": "python",
   "pygments_lexer": "ipython3",
   "version": "3.8.5-final"
  },
  "orig_nbformat": 2,
  "kernelspec": {
   "name": "python38564bit09e09cb473cf4aa79925e509cc80df0f",
   "display_name": "Python 3.8.5 64-bit"
  }
 },
 "nbformat": 4,
 "nbformat_minor": 2,
 "cells": [
  {
   "cell_type": "code",
   "execution_count": 1,
   "metadata": {},
   "outputs": [],
   "source": [
    "import pandas as pd\n",
    "import scipy.io\n",
    "a=pd.read_csv('3_Messwerte.csv', sep=';', decimal=\",\")"
   ]
  },
  {
   "cell_type": "code",
   "execution_count": 2,
   "metadata": {},
   "outputs": [
    {
     "output_type": "execute_result",
     "data": {
      "text/plain": "    tmess  ttat  ue  uc  ur   i\n0    0.00  0.00 NaN NaN NaN NaN\n1    0.04  0.04 NaN NaN NaN NaN\n2    0.08  0.08 NaN NaN NaN NaN\n3    0.12  0.12 NaN NaN NaN NaN\n4    0.16  0.16 NaN NaN NaN NaN\n5    0.20  0.20 NaN NaN NaN NaN\n6    0.24  0.24 NaN NaN NaN NaN\n7    0.28  0.28 NaN NaN NaN NaN\n8    0.32  0.32 NaN NaN NaN NaN\n9    0.36  0.36 NaN NaN NaN NaN\n10   0.40  0.40 NaN NaN NaN NaN\n11   0.44  0.44 NaN NaN NaN NaN\n12   0.48  0.48 NaN NaN NaN NaN\n13   0.00  0.50 NaN NaN NaN NaN\n14   0.04  0.54 NaN NaN NaN NaN\n15   0.08  0.58 NaN NaN NaN NaN\n16   0.12  0.62 NaN NaN NaN NaN\n17   0.16  0.66 NaN NaN NaN NaN\n18   0.20  0.70 NaN NaN NaN NaN\n19   0.24  0.74 NaN NaN NaN NaN\n20   0.28  0.78 NaN NaN NaN NaN\n21   0.32  0.82 NaN NaN NaN NaN\n22   0.36  0.86 NaN NaN NaN NaN\n23   0.40  0.90 NaN NaN NaN NaN\n24   0.44  0.94 NaN NaN NaN NaN\n25   0.48  0.98 NaN NaN NaN NaN",
      "text/html": "<div>\n<style scoped>\n    .dataframe tbody tr th:only-of-type {\n        vertical-align: middle;\n    }\n\n    .dataframe tbody tr th {\n        vertical-align: top;\n    }\n\n    .dataframe thead th {\n        text-align: right;\n    }\n</style>\n<table border=\"1\" class=\"dataframe\">\n  <thead>\n    <tr style=\"text-align: right;\">\n      <th></th>\n      <th>tmess</th>\n      <th>ttat</th>\n      <th>ue</th>\n      <th>uc</th>\n      <th>ur</th>\n      <th>i</th>\n    </tr>\n  </thead>\n  <tbody>\n    <tr>\n      <th>0</th>\n      <td>0.00</td>\n      <td>0.00</td>\n      <td>NaN</td>\n      <td>NaN</td>\n      <td>NaN</td>\n      <td>NaN</td>\n    </tr>\n    <tr>\n      <th>1</th>\n      <td>0.04</td>\n      <td>0.04</td>\n      <td>NaN</td>\n      <td>NaN</td>\n      <td>NaN</td>\n      <td>NaN</td>\n    </tr>\n    <tr>\n      <th>2</th>\n      <td>0.08</td>\n      <td>0.08</td>\n      <td>NaN</td>\n      <td>NaN</td>\n      <td>NaN</td>\n      <td>NaN</td>\n    </tr>\n    <tr>\n      <th>3</th>\n      <td>0.12</td>\n      <td>0.12</td>\n      <td>NaN</td>\n      <td>NaN</td>\n      <td>NaN</td>\n      <td>NaN</td>\n    </tr>\n    <tr>\n      <th>4</th>\n      <td>0.16</td>\n      <td>0.16</td>\n      <td>NaN</td>\n      <td>NaN</td>\n      <td>NaN</td>\n      <td>NaN</td>\n    </tr>\n    <tr>\n      <th>5</th>\n      <td>0.20</td>\n      <td>0.20</td>\n      <td>NaN</td>\n      <td>NaN</td>\n      <td>NaN</td>\n      <td>NaN</td>\n    </tr>\n    <tr>\n      <th>6</th>\n      <td>0.24</td>\n      <td>0.24</td>\n      <td>NaN</td>\n      <td>NaN</td>\n      <td>NaN</td>\n      <td>NaN</td>\n    </tr>\n    <tr>\n      <th>7</th>\n      <td>0.28</td>\n      <td>0.28</td>\n      <td>NaN</td>\n      <td>NaN</td>\n      <td>NaN</td>\n      <td>NaN</td>\n    </tr>\n    <tr>\n      <th>8</th>\n      <td>0.32</td>\n      <td>0.32</td>\n      <td>NaN</td>\n      <td>NaN</td>\n      <td>NaN</td>\n      <td>NaN</td>\n    </tr>\n    <tr>\n      <th>9</th>\n      <td>0.36</td>\n      <td>0.36</td>\n      <td>NaN</td>\n      <td>NaN</td>\n      <td>NaN</td>\n      <td>NaN</td>\n    </tr>\n    <tr>\n      <th>10</th>\n      <td>0.40</td>\n      <td>0.40</td>\n      <td>NaN</td>\n      <td>NaN</td>\n      <td>NaN</td>\n      <td>NaN</td>\n    </tr>\n    <tr>\n      <th>11</th>\n      <td>0.44</td>\n      <td>0.44</td>\n      <td>NaN</td>\n      <td>NaN</td>\n      <td>NaN</td>\n      <td>NaN</td>\n    </tr>\n    <tr>\n      <th>12</th>\n      <td>0.48</td>\n      <td>0.48</td>\n      <td>NaN</td>\n      <td>NaN</td>\n      <td>NaN</td>\n      <td>NaN</td>\n    </tr>\n    <tr>\n      <th>13</th>\n      <td>0.00</td>\n      <td>0.50</td>\n      <td>NaN</td>\n      <td>NaN</td>\n      <td>NaN</td>\n      <td>NaN</td>\n    </tr>\n    <tr>\n      <th>14</th>\n      <td>0.04</td>\n      <td>0.54</td>\n      <td>NaN</td>\n      <td>NaN</td>\n      <td>NaN</td>\n      <td>NaN</td>\n    </tr>\n    <tr>\n      <th>15</th>\n      <td>0.08</td>\n      <td>0.58</td>\n      <td>NaN</td>\n      <td>NaN</td>\n      <td>NaN</td>\n      <td>NaN</td>\n    </tr>\n    <tr>\n      <th>16</th>\n      <td>0.12</td>\n      <td>0.62</td>\n      <td>NaN</td>\n      <td>NaN</td>\n      <td>NaN</td>\n      <td>NaN</td>\n    </tr>\n    <tr>\n      <th>17</th>\n      <td>0.16</td>\n      <td>0.66</td>\n      <td>NaN</td>\n      <td>NaN</td>\n      <td>NaN</td>\n      <td>NaN</td>\n    </tr>\n    <tr>\n      <th>18</th>\n      <td>0.20</td>\n      <td>0.70</td>\n      <td>NaN</td>\n      <td>NaN</td>\n      <td>NaN</td>\n      <td>NaN</td>\n    </tr>\n    <tr>\n      <th>19</th>\n      <td>0.24</td>\n      <td>0.74</td>\n      <td>NaN</td>\n      <td>NaN</td>\n      <td>NaN</td>\n      <td>NaN</td>\n    </tr>\n    <tr>\n      <th>20</th>\n      <td>0.28</td>\n      <td>0.78</td>\n      <td>NaN</td>\n      <td>NaN</td>\n      <td>NaN</td>\n      <td>NaN</td>\n    </tr>\n    <tr>\n      <th>21</th>\n      <td>0.32</td>\n      <td>0.82</td>\n      <td>NaN</td>\n      <td>NaN</td>\n      <td>NaN</td>\n      <td>NaN</td>\n    </tr>\n    <tr>\n      <th>22</th>\n      <td>0.36</td>\n      <td>0.86</td>\n      <td>NaN</td>\n      <td>NaN</td>\n      <td>NaN</td>\n      <td>NaN</td>\n    </tr>\n    <tr>\n      <th>23</th>\n      <td>0.40</td>\n      <td>0.90</td>\n      <td>NaN</td>\n      <td>NaN</td>\n      <td>NaN</td>\n      <td>NaN</td>\n    </tr>\n    <tr>\n      <th>24</th>\n      <td>0.44</td>\n      <td>0.94</td>\n      <td>NaN</td>\n      <td>NaN</td>\n      <td>NaN</td>\n      <td>NaN</td>\n    </tr>\n    <tr>\n      <th>25</th>\n      <td>0.48</td>\n      <td>0.98</td>\n      <td>NaN</td>\n      <td>NaN</td>\n      <td>NaN</td>\n      <td>NaN</td>\n    </tr>\n  </tbody>\n</table>\n</div>"
     },
     "metadata": {},
     "execution_count": 2
    }
   ],
   "source": [
    "a"
   ]
  },
  {
   "cell_type": "code",
   "execution_count": 5,
   "metadata": {},
   "outputs": [
    {
     "output_type": "execute_result",
     "data": {
      "text/plain": "{'__header__': b'MATLAB 5.0 MAT-file, Platform: PCWIN64, Created on: Mo Mai 25 11:58:11 2020',\n '__version__': '1.0',\n '__globals__': [],\n 't_mess': array([[0.  ],\n        [0.04],\n        [0.08],\n        [0.12],\n        [0.16],\n        [0.2 ],\n        [0.24],\n        [0.28],\n        [0.32],\n        [0.36],\n        [0.4 ],\n        [0.44],\n        [0.48],\n        [0.5 ],\n        [0.54],\n        [0.58],\n        [0.62],\n        [0.66],\n        [0.7 ],\n        [0.74],\n        [0.78],\n        [0.82],\n        [0.86],\n        [0.9 ],\n        [0.94],\n        [0.98]]),\n 'u_C': array([[0.16],\n        [2.88],\n        [4.72],\n        [6.16],\n        [7.28],\n        [8.08],\n        [8.64],\n        [9.12],\n        [9.36],\n        [9.6 ],\n        [9.68],\n        [9.84],\n        [9.92],\n        [9.92],\n        [6.88],\n        [4.96],\n        [3.6 ],\n        [2.64],\n        [1.92],\n        [1.44],\n        [1.04],\n        [0.8 ],\n        [0.48],\n        [0.4 ],\n        [0.24],\n        [0.16]]),\n 'u_E': array([[ 9.36],\n        [ 9.68],\n        [ 9.84],\n        [ 9.92],\n        [10.  ],\n        [10.  ],\n        [10.  ],\n        [10.  ],\n        [10.  ],\n        [10.  ],\n        [10.  ],\n        [10.  ],\n        [10.  ],\n        [10.  ],\n        [ 0.32],\n        [ 0.16],\n        [ 0.08],\n        [ 0.08],\n        [ 0.08],\n        [ 0.  ],\n        [ 0.  ],\n        [ 0.  ],\n        [ 0.  ],\n        [ 0.  ],\n        [ 0.  ],\n        [-0.08]])}"
     },
     "metadata": {},
     "execution_count": 5
    }
   ],
   "source": [
    "b=scipy.io.loadmat('ELNW_PR_02_Vorgabe_Messwerte.mat')\n",
    "b['t_mess']"
   ]
  },
  {
   "cell_type": "code",
   "execution_count": null,
   "metadata": {},
   "outputs": [],
   "source": []
  }
 ]
}